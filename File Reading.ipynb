{
 "cells": [
  {
   "cell_type": "code",
   "execution_count": 85,
   "id": "b48bf12c-b444-4ec0-9dea-402dccc9276f",
   "metadata": {
    "tags": []
   },
   "outputs": [],
   "source": [
    "##Creating a File"
   ]
  },
  {
   "cell_type": "code",
   "execution_count": 23,
   "id": "80ba61ae-ef2c-4b27-9fad-ada9ae9adba6",
   "metadata": {
    "tags": []
   },
   "outputs": [
    {
     "name": "stdout",
     "output_type": "stream",
     "text": [
      "Data analysis is the process of inspecting, cleansing, transforming, and modeling data with the goal of discovering useful information, informing conclusions, and supporting decision-making.[1] Data analysis has multiple facets and approaches, encompassing diverse techniques under a variety of names, and is used in different business, science, and social science domains.[2] In today's business world, data analysis plays a role in making decisions more scientific and helping businesses operate more effectively.[3]\n",
      "\n",
      "Data mining is a particular data analysis technique that focuses on statistical modeling and knowledge discovery for predictive rather than purely descriptive purposes, while business intelligence covers data analysis that relies heavily on aggregation, focusing mainly on business information.[4] In statistical applications, data analysis can be divided into descriptive statistics, exploratory data analysis (EDA), and confirmatory data analysis (CDA).[5] EDA focuses on discovering new features in the data while CDA focuses on confirming or falsifying existing hypotheses.[6][7] Predictive analytics focuses on the application of statistical models for predictive forecasting or classification, while text analytics applies statistical, linguistic, and structural techniques to extract and classify information from textual sources, a species of unstructured data. All of the above are varieties of data analysis.[8]\n",
      "\n",
      "Data integration is a precursor to data analysis, and data analysis is closely linked to data visualization and data dissemination.[9]\n"
     ]
    }
   ],
   "source": [
    "fd = open('data.txt', 'r')\n",
    "txt = fd.read()\n",
    "print(txt)\n",
    "fd.close()\n"
   ]
  },
  {
   "cell_type": "code",
   "execution_count": 25,
   "id": "5626299d-ad71-4067-a998-01fe358c47a2",
   "metadata": {
    "tags": []
   },
   "outputs": [
    {
     "data": {
      "text/plain": [
       "\"Data analysis is the process of inspecting, cleansing, transforming, and modeling data with the goal of discovering useful information, informing conclusions, and supporting decision-making.[1] Data analysis has multiple facets and approaches, encompassing diverse techniques under a variety of names, and is used in different business, science, and social science domains.[2] In today's business world, data analysis plays a role in making decisions more scientific and helping businesses operate more effectively.[3]\\n\\nData mining is a particular data analysis technique that focuses on statistical modeling and knowledge discovery for predictive rather than purely descriptive purposes, while business intelligence covers data analysis that relies heavily on aggregation, focusing mainly on business information.[4] In statistical applications, data analysis can be divided into descriptive statistics, exploratory data analysis (EDA), and confirmatory data analysis (CDA).[5] EDA focuses on discovering new features in the data while CDA focuses on confirming or falsifying existing hypotheses.[6][7] Predictive analytics focuses on the application of statistical models for predictive forecasting or classification, while text analytics applies statistical, linguistic, and structural techniques to extract and classify information from textual sources, a species of unstructured data. All of the above are varieties of data analysis.[8]\\n\\nData integration is a precursor to data analysis, and data analysis is closely linked to data visualization and data dissemination.[9]\""
      ]
     },
     "execution_count": 25,
     "metadata": {},
     "output_type": "execute_result"
    }
   ],
   "source": [
    "txt"
   ]
  },
  {
   "cell_type": "code",
   "execution_count": 41,
   "id": "e39e32e3-0700-44ab-a871-b737175a4a37",
   "metadata": {
    "tags": []
   },
   "outputs": [],
   "source": [
    "para = txt.split(\"\\n\\n\")"
   ]
  },
  {
   "cell_type": "code",
   "execution_count": 45,
   "id": "cdea8bac-a9f7-4cf3-b9f3-aa6020e27eec",
   "metadata": {
    "tags": []
   },
   "outputs": [
    {
     "name": "stdout",
     "output_type": "stream",
     "text": [
      "[\"Data analysis is the process of inspecting, cleansing, transforming, and modeling data with the goal of discovering useful information, informing conclusions, and supporting decision-making.[1] Data analysis has multiple facets and approaches, encompassing diverse techniques under a variety of names, and is used in different business, science, and social science domains.[2] In today's business world, data analysis plays a role in making decisions more scientific and helping businesses operate more effectively.[3]\", 'Data mining is a particular data analysis technique that focuses on statistical modeling and knowledge discovery for predictive rather than purely descriptive purposes, while business intelligence covers data analysis that relies heavily on aggregation, focusing mainly on business information.[4] In statistical applications, data analysis can be divided into descriptive statistics, exploratory data analysis (EDA), and confirmatory data analysis (CDA).[5] EDA focuses on discovering new features in the data while CDA focuses on confirming or falsifying existing hypotheses.[6][7] Predictive analytics focuses on the application of statistical models for predictive forecasting or classification, while text analytics applies statistical, linguistic, and structural techniques to extract and classify information from textual sources, a species of unstructured data. All of the above are varieties of data analysis.[8]', 'Data integration is a precursor to data analysis, and data analysis is closely linked to data visualization and data dissemination.[9]']\n"
     ]
    },
    {
     "data": {
      "text/plain": [
       "list"
      ]
     },
     "execution_count": 45,
     "metadata": {},
     "output_type": "execute_result"
    }
   ],
   "source": [
    "print (para)\n",
    "type(para)"
   ]
  },
  {
   "cell_type": "code",
   "execution_count": 47,
   "id": "d58927e6-128f-4d65-b803-c3accb22f7eb",
   "metadata": {
    "tags": []
   },
   "outputs": [
    {
     "name": "stdout",
     "output_type": "stream",
     "text": [
      "Data analysis is the process of inspecting, cleansing, transforming, and modeling data with the goal of discovering useful information, informing conclusions, and supporting decision-making.[1] Data analysis has multiple facets and approaches, encompassing diverse techniques under a variety of names, and is used in different business, science, and social science domains.[2] In today's business world, data analysis plays a role in making decisions more scientific and helping businesses operate more effectively.[3]\n",
      "Data mining is a particular data analysis technique that focuses on statistical modeling and knowledge discovery for predictive rather than purely descriptive purposes, while business intelligence covers data analysis that relies heavily on aggregation, focusing mainly on business information.[4] In statistical applications, data analysis can be divided into descriptive statistics, exploratory data analysis (EDA), and confirmatory data analysis (CDA).[5] EDA focuses on discovering new features in the data while CDA focuses on confirming or falsifying existing hypotheses.[6][7] Predictive analytics focuses on the application of statistical models for predictive forecasting or classification, while text analytics applies statistical, linguistic, and structural techniques to extract and classify information from textual sources, a species of unstructured data. All of the above are varieties of data analysis.[8]\n",
      "Data integration is a precursor to data analysis, and data analysis is closely linked to data visualization and data dissemination.[9]\n"
     ]
    }
   ],
   "source": [
    "for i in para:\n",
    "    print(i)"
   ]
  },
  {
   "cell_type": "code",
   "execution_count": 49,
   "id": "c7d4dcac-60ec-4ad2-aa70-a1c38ea49b08",
   "metadata": {
    "tags": []
   },
   "outputs": [
    {
     "data": {
      "text/plain": [
       "3"
      ]
     },
     "execution_count": 49,
     "metadata": {},
     "output_type": "execute_result"
    }
   ],
   "source": [
    "len(para)"
   ]
  },
  {
   "cell_type": "code",
   "execution_count": 53,
   "id": "b7e656d1-bc23-4c52-ae85-1b5c18895e44",
   "metadata": {
    "tags": []
   },
   "outputs": [
    {
     "data": {
      "text/plain": [
       "10"
      ]
     },
     "execution_count": 53,
     "metadata": {},
     "output_type": "execute_result"
    }
   ],
   "source": [
    "len(txt.split('.'))"
   ]
  },
  {
   "cell_type": "code",
   "execution_count": 73,
   "id": "2fa69c60-6361-4295-9b67-7b9cc3ff347d",
   "metadata": {
    "tags": []
   },
   "outputs": [
    {
     "name": "stdout",
     "output_type": "stream",
     "text": [
      "['Data', 'analysis', 'is', 'the', 'process', 'of', 'inspecting,', 'cleansing,', 'transforming,', 'and', 'modeling', 'data', 'with', 'the', 'goal', 'of', 'discovering', 'useful', 'information,', 'informing', 'conclusions,', 'and', 'supporting', 'decision-making.', 'Data', 'analysis', 'has', 'multiple', 'facets', 'and', 'approaches,', 'encompassing', 'diverse', 'techniques', 'under', 'a', 'variety', 'of', 'names,', 'and', 'is', 'used', 'in', 'different', 'business,', 'science,', 'and', 'social', 'science', 'domains.', 'In', \"today's\", 'business', 'world,', 'data', 'analysis', 'plays', 'a', 'role', 'in', 'making', 'decisions', 'more', 'scientific', 'and', 'helping', 'businesses', 'operate', 'more', 'effectively.\\n\\nData', 'mining', 'is', 'a', 'particular', 'data', 'analysis', 'technique', 'that', 'focuses', 'on', 'statistical', 'modeling', 'and', 'knowledge', 'discovery', 'for', 'predictive', 'rather', 'than', 'purely', 'descriptive', 'purposes,', 'while', 'business', 'intelligence', 'covers', 'data', 'analysis', 'that', 'relies', 'heavily', 'on', 'aggregation,', 'focusing', 'mainly', 'on', 'business', 'information.', 'In', 'statistical', 'applications,', 'data', 'analysis', 'can', 'be', 'divided', 'into', 'descriptive', 'statistics,', 'exploratory', 'data', 'analysis', '(EDA),', 'and', 'confirmatory', 'data', 'analysis', '(CDA).', 'EDA', 'focuses', 'on', 'discovering', 'new', 'features', 'in', 'the', 'data', 'while', 'CDA', 'focuses', 'on', 'confirming', 'or', 'falsifying', 'existing', 'hypotheses.', 'Predictive', 'analytics', 'focuses', 'on', 'the', 'application', 'of', 'statistical', 'models', 'for', 'predictive', 'forecasting', 'or', 'classification,', 'while', 'text', 'analytics', 'applies', 'statistical,', 'linguistic,', 'and', 'structural', 'techniques', 'to', 'extract', 'and', 'classify', 'information', 'from', 'textual', 'sources,', 'a', 'species', 'of', 'unstructured', 'data.', 'All', 'of', 'the', 'above', 'are', 'varieties', 'of', 'data', 'analysis.\\n\\nData', 'integration', 'is', 'a', 'precursor', 'to', 'data', 'analysis,', 'and', 'data', 'analysis', 'is', 'closely', 'linked', 'to', 'data', 'visualization', 'and', 'data', 'dissemination.']\n"
     ]
    }
   ],
   "source": [
    "words = txt.split(' ')\n",
    "print(words)"
   ]
  },
  {
   "cell_type": "code",
   "execution_count": 75,
   "id": "2d7dae89-ff19-429d-8d3c-a8475f52f830",
   "metadata": {
    "tags": []
   },
   "outputs": [
    {
     "data": {
      "text/plain": [
       "210"
      ]
     },
     "execution_count": 75,
     "metadata": {},
     "output_type": "execute_result"
    }
   ],
   "source": [
    "len(words)"
   ]
  },
  {
   "cell_type": "code",
   "execution_count": 71,
   "id": "f3f386d1-005f-4403-9c94-fb6b0c734475",
   "metadata": {
    "tags": []
   },
   "outputs": [
    {
     "name": "stdout",
     "output_type": "stream",
     "text": [
      "Data analysis is the process of inspecting, cleansing, transforming, and modeling data with the goal of discovering useful information, informing conclusions, and supporting decision-making. Data analysis has multiple facets and approaches, encompassing diverse techniques under a variety of names, and is used in different business, science, and social science domains. In today's business world, data analysis plays a role in making decisions more scientific and helping businesses operate more effectively.\n",
      "\n",
      "Data mining is a particular data analysis technique that focuses on statistical modeling and knowledge discovery for predictive rather than purely descriptive purposes, while business intelligence covers data analysis that relies heavily on aggregation, focusing mainly on business information. In statistical applications, data analysis can be divided into descriptive statistics, exploratory data analysis (EDA), and confirmatory data analysis (CDA). EDA focuses on discovering new features in the data while CDA focuses on confirming or falsifying existing hypotheses. Predictive analytics focuses on the application of statistical models for predictive forecasting or classification, while text analytics applies statistical, linguistic, and structural techniques to extract and classify information from textual sources, a species of unstructured data. All of the above are varieties of data analysis.\n",
      "\n",
      "Data integration is a precursor to data analysis, and data analysis is closely linked to data visualization and data dissemination.\n"
     ]
    }
   ],
   "source": [
    "for i in range (1, 11):\n",
    "    pattern = (\"[\" + str(i) + \"]\")\n",
    "    txt = txt.replace(pattern, '')\n",
    "print(txt)\n",
    "    "
   ]
  },
  {
   "cell_type": "code",
   "execution_count": 103,
   "id": "096ccbed-5a36-453d-9961-cc9996295520",
   "metadata": {
    "tags": []
   },
   "outputs": [
    {
     "name": "stdin",
     "output_type": "stream",
     "text": [
      "Enter the text you want to add:  mmmmmmmmmmmmm\n"
     ]
    }
   ],
   "source": [
    "fd = open('newdoc.txt', 'w')\n",
    "fd.write(\"Hey there!\")\n",
    "fd = open('newdoc.txt', 'a')\n",
    "fd.write(\" Its interesting to learn Data Science concepts, that too data processing side of it.\")\n",
    "txt = input(\"Enter the text you want to add: \")\n",
    "\n",
    "txt = txt + '.\\n'\n",
    "fd.write(txt)\n",
    "\n",
    "fd.close()"
   ]
  },
  {
   "cell_type": "code",
   "execution_count": null,
   "id": "116e0d0e-aed7-4fe7-8ae4-9012c7d8a3af",
   "metadata": {},
   "outputs": [],
   "source": []
  }
 ],
 "metadata": {
  "kernelspec": {
   "display_name": "Python 3 (ipykernel)",
   "language": "python",
   "name": "python3"
  },
  "language_info": {
   "codemirror_mode": {
    "name": "ipython",
    "version": 3
   },
   "file_extension": ".py",
   "mimetype": "text/x-python",
   "name": "python",
   "nbconvert_exporter": "python",
   "pygments_lexer": "ipython3",
   "version": "3.11.7"
  }
 },
 "nbformat": 4,
 "nbformat_minor": 5
}
